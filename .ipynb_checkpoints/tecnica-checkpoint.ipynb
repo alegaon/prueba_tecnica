{
 "cells": [
  {
   "cell_type": "code",
   "execution_count": 1,
   "id": "dd64025e-c85a-4392-80c2-d531d51c79fb",
   "metadata": {},
   "outputs": [],
   "source": [
    "import pandas as pd"
   ]
  },
  {
   "cell_type": "code",
   "execution_count": 13,
   "id": "caf53621-e4ea-4ac7-aafa-fac820745edb",
   "metadata": {},
   "outputs": [
    {
     "data": {
      "text/plain": [
       "'2.1.4'"
      ]
     },
     "execution_count": 13,
     "metadata": {},
     "output_type": "execute_result"
    }
   ],
   "source": [
    "pd.__version__"
   ]
  },
  {
   "cell_type": "code",
   "execution_count": 40,
   "id": "1f8ed04a-38e8-4cb2-a562-1f3179c5f2b3",
   "metadata": {},
   "outputs": [],
   "source": [
    "# leer archivo\n",
    "datos = pd.read_excel(\"Victims_Age_by_Offense_Category_2022.xlsx\")"
   ]
  },
  {
   "cell_type": "code",
   "execution_count": 42,
   "id": "26e5a7e5-01b7-4ce1-970a-720046f8f159",
   "metadata": {},
   "outputs": [],
   "source": [
    "# elegir categoria Crimes Against Property \n",
    "# elimimar footer\n",
    "crimes_against_property = datos.iloc[11:12,:]"
   ]
  },
  {
   "cell_type": "code",
   "execution_count": 43,
   "id": "9360459e-0560-40bd-8714-84b684b923c2",
   "metadata": {},
   "outputs": [],
   "source": [
    "# generar dataframe sin totales\n",
    "columna_a_omitir = 'Unnamed: 1'\n",
    "\n",
    "# Mostrar todas las columnas excepto la columna_a_omitir\n",
    "df_resultante = crimes_against_property.drop(columns=[columna_a_omitir])"
   ]
  },
  {
   "cell_type": "code",
   "execution_count": 44,
   "id": "53ff5ea4-360e-4332-ba89-88c03172d884",
   "metadata": {},
   "outputs": [
    {
     "name": "stdout",
     "output_type": "stream",
     "text": [
      "Se ha generado el archivo CSV: datos.csv\n"
     ]
    }
   ],
   "source": [
    "# generar csv\n",
    "\n",
    "# Escribir el DataFrame a un archivo CSV, sin index , sin header\n",
    "nombre_archivo_csv = 'datos.csv'\n",
    "\n",
    "df_resultante.to_csv(nombre_archivo_csv, index=False, header=False)\n",
    "\n",
    "print(f'Se ha generado el archivo CSV: {nombre_archivo_csv}')\n"
   ]
  }
 ],
 "metadata": {
  "kernelspec": {
   "display_name": "Python 3 (ipykernel)",
   "language": "python",
   "name": "python3"
  },
  "language_info": {
   "codemirror_mode": {
    "name": "ipython",
    "version": 3
   },
   "file_extension": ".py",
   "mimetype": "text/x-python",
   "name": "python",
   "nbconvert_exporter": "python",
   "pygments_lexer": "ipython3",
   "version": "3.10.12"
  }
 },
 "nbformat": 4,
 "nbformat_minor": 5
}
